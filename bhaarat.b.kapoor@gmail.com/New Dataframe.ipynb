{
 "cells": [
  {
   "cell_type": "code",
   "execution_count": 0,
   "metadata": {
    "application/vnd.databricks.v1+cell": {
     "cellMetadata": {
      "byteLimit": 2048000,
      "rowLimit": 10000
     },
     "inputWidgets": {},
     "nuid": "e8da32ea-d817-405a-8af8-1410e2118015",
     "showTitle": false,
     "tableResultSettingsMap": {},
     "title": ""
    }
   },
   "outputs": [],
   "source": [
    "\n",
    "Path_naval=\"/Volumes/jpm/naval/formula1/circuits.csv\"\n",
    "df1=spark.read.csv(f\"{Path_naval}\", header=True, inferSchema=True)\n",
    "df2=df1.withColumnRenamed(\"circuitId\",\"circuit_id\")\\\n",
    "    .withColumnRenamed(\"circuitRef\",\"circuit_re\")\\\n",
    "        .withColumnRenamed(\"lng\",\"longtitude\")\\\n",
    "            .withColumnRenamed(\"alt\",\"altitude\")\\\n",
    "                .withColumnRenamed(\"lat\",\"latitude\")\\\n",
    ".withColumn(\"ingestion_dt\",current_dt())\n",
    "\n",
    "df4.write.mode(\"overwrite\").saveAsTable(\"jpm.bharat.drivers\")\n"
   ]
  },
  {
   "cell_type": "code",
   "execution_count": 0,
   "metadata": {
    "application/vnd.databricks.v1+cell": {
     "cellMetadata": {
      "byteLimit": 2048000,
      "rowLimit": 10000
     },
     "inputWidgets": {},
     "nuid": "65e70db7-2617-4394-a83a-f80e440bf008",
     "showTitle": false,
     "tableResultSettingsMap": {},
     "title": ""
    }
   },
   "outputs": [],
   "source": [
    "from pyspark.sql.functions import *\n",
    "Path_naval=\"/Volumes/jpm/naval/formula1\"\n",
    "df3=spark.read.json(f\"{Path_naval}\")\n",
    "df4=df3.withColumn(\"ForeName\",col(\"name.forename\"))\\\n",
    "               .withColumn(\"SurName\",col(\"name.surname\"))\\\n",
    ".withColumn(\"ingestion_dt\",current_timestamp())\\\n",
    "    .drop(\"url\")\\\n",
    "        .drop(\"name\")\n",
    "df4.display()\n",
    "df4.write.mode(\"overwrite\").saveAsTable(\"jpm.bharat.drivers\")"
   ]
  },
  {
   "cell_type": "markdown",
   "metadata": {
    "application/vnd.databricks.v1+cell": {
     "cellMetadata": {
      "byteLimit": 2048000,
      "rowLimit": 10000
     },
     "inputWidgets": {},
     "nuid": "0c98a65d-a1cc-448b-a3e1-c8cc56e022d1",
     "showTitle": false,
     "tableResultSettingsMap": {},
     "title": ""
    }
   },
   "source": [
    "f.withColumnRenamed(\"Name\",\"name\").withColumnRenamed(\"Net Worth (in billions)\"\n",
    "\n",
    "1. Rename ciruitId circuit_id, circuitRef to circuit_ref and lat to latitude, lng to longtitude and alt to altitude\n",
    "2. Drop URL colum\n",
    "3. add new column ingestion_date"
   ]
  },
  {
   "cell_type": "markdown",
   "metadata": {
    "application/vnd.databricks.v1+cell": {
     "cellMetadata": {
      "byteLimit": 2048000,
      "rowLimit": 10000
     },
     "inputWidgets": {},
     "nuid": "782302fa-1782-4801-83b2-f94b241ed002",
     "showTitle": false,
     "tableResultSettingsMap": {},
     "title": ""
    }
   },
   "source": [
    "Rename circuitId\n",
    "Drop URL Comumn\n",
    "add new column"
   ]
  },
  {
   "cell_type": "markdown",
   "metadata": {
    "application/vnd.databricks.v1+cell": {
     "cellMetadata": {
      "byteLimit": 2048000,
      "rowLimit": 10000
     },
     "inputWidgets": {},
     "nuid": "0ae068c4-6e9e-4c1e-a739-1cf7cc21ac8b",
     "showTitle": false,
     "tableResultSettingsMap": {},
     "title": ""
    }
   },
   "source": [
    "/Volumes/jpm/naval/formula1/circuits.csv"
   ]
  }
 ],
 "metadata": {
  "application/vnd.databricks.v1+notebook": {
   "computePreferences": null,
   "dashboards": [],
   "environmentMetadata": {
    "base_environment": "",
    "environment_version": "2"
   },
   "language": "python",
   "notebookMetadata": {
    "pythonIndentUnit": 4
   },
   "notebookName": "New Dataframe",
   "widgets": {}
  },
  "language_info": {
   "name": "python"
  }
 },
 "nbformat": 4,
 "nbformat_minor": 0
}
