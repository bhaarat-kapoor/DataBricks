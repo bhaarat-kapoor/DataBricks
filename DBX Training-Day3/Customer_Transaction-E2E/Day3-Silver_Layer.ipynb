{
 "cells": [
  {
   "cell_type": "code",
   "execution_count": 0,
   "metadata": {
    "application/vnd.databricks.v1+cell": {
     "cellMetadata": {
      "byteLimit": 2048000,
      "implicitDf": true,
      "rowLimit": 10000
     },
     "inputWidgets": {},
     "nuid": "bf8dca85-5aa7-4149-a37f-ff8233e6994c",
     "showTitle": false,
     "tableResultSettingsMap": {},
     "title": ""
    }
   },
   "outputs": [],
   "source": [
    "%sql\n",
    "CREATE OR REPLACE TABLE jpm.bharat_silver.transaction_silver AS\n",
    "SELECT\n",
    "  cust_id,\n",
    "  start_date,\n",
    "  end_date,\n",
    "  txn_id,\n",
    "  TO_DATE(date, 'yyyy-MM-dd') AS date,\n",
    "  year,\n",
    "  month,\n",
    "  day,\n",
    "  expense_type,\n",
    "  amt,\n",
    "  city,\n",
    "  ingestion_date\n",
    "FROM jpm.bharat_bronze.transactions_bronze"
   ]
  },
  {
   "cell_type": "code",
   "execution_count": 0,
   "metadata": {
    "application/vnd.databricks.v1+cell": {
     "cellMetadata": {
      "byteLimit": 2048000,
      "implicitDf": true,
      "rowLimit": 10000
     },
     "inputWidgets": {},
     "nuid": "c6e0a886-a8a2-4c20-9ff3-4b86b7647bd0",
     "showTitle": false,
     "tableResultSettingsMap": {},
     "title": ""
    }
   },
   "outputs": [],
   "source": [
    "%sql\n",
    "CREATE OR REPLACE TABLE jpm.bharat_silver.customer_silver AS\n",
    "SELECT\n",
    "  cust_id,\n",
    "  name,\n",
    "  CAST(age AS INT) AS `Age`,\n",
    "  gender AS `Gender`,\n",
    "  birthday AS `birth`,\n",
    "  zip,\n",
    "  REPLACE(city, \"_\", \"\") AS `city`\n",
    "FROM jpm.bharat_bronze.customer_bronze"
   ]
  },
  {
   "cell_type": "code",
   "execution_count": 0,
   "metadata": {
    "application/vnd.databricks.v1+cell": {
     "cellMetadata": {
      "byteLimit": 2048000,
      "rowLimit": 10000
     },
     "inputWidgets": {},
     "nuid": "03fbd9ad-bcf7-4ac5-a859-fcffd2a20eea",
     "showTitle": false,
     "tableResultSettingsMap": {},
     "title": ""
    }
   },
   "outputs": [],
   "source": [
    "df_cust= spark.table(\"jpm.bharat_silver.customer_silver\")\n",
    "df_txn=spark.table(\"jpm.bharat_silver.transaction_silver\")\n",
    "df_joined = df_cust.join(\n",
    "    df_txn, \n",
    "    df_cust.cust_id == df_txn.cust_id, \n",
    "    \"inner\"\n",
    ").select(\n",
    "    df_cust.cust_id,\n",
    "    'name',\n",
    "    'age',\n",
    "    'gender',\n",
    "    'birth',\n",
    "    'zip',\n",
    "    df_cust.city,\n",
    "    'start_date',\n",
    "    'end_date',\n",
    "    'txn_id',\n",
    "    'date',\n",
    "    'year',\n",
    "    'month',\n",
    "    'day',\n",
    "    'expense_type',\n",
    "    'amt'\n",
    ")\n",
    "df_joined.write.mode(\"overwrite\").saveAsTable(\"jpm.bharat_gold.Complete_Gold\");"
   ]
  },
  {
   "cell_type": "code",
   "execution_count": 0,
   "metadata": {
    "application/vnd.databricks.v1+cell": {
     "cellMetadata": {},
     "inputWidgets": {},
     "nuid": "e5486742-4edd-4ca8-b5ed-c42ac8d41ade",
     "showTitle": false,
     "tableResultSettingsMap": {},
     "title": ""
    }
   },
   "outputs": [],
   "source": []
  }
 ],
 "metadata": {
  "application/vnd.databricks.v1+notebook": {
   "computePreferences": null,
   "dashboards": [],
   "environmentMetadata": {
    "base_environment": "",
    "environment_version": "2"
   },
   "language": "python",
   "notebookMetadata": {
    "mostRecentlyExecutedCommandWithImplicitDF": {
     "commandId": 6736544397468903,
     "dataframes": [
      "_sqldf"
     ]
    },
    "pythonIndentUnit": 4
   },
   "notebookName": "Day3-Silver_Layer",
   "widgets": {}
  },
  "language_info": {
   "name": "python"
  }
 },
 "nbformat": 4,
 "nbformat_minor": 0
}
