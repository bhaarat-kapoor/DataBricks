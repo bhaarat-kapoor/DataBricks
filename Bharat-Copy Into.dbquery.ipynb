{
 "cells": [
  {
   "cell_type": "code",
   "execution_count": 0,
   "metadata": {
    "application/vnd.databricks.v1+cell": {
     "cellMetadata": {
      "byteLimit": 10485760,
      "rowLimit": 1000
     },
     "inputWidgets": {},
     "nuid": "edfc9418-c845-4885-b142-f3efe8705e73",
     "showTitle": false,
     "tableResultSettingsMap": {},
     "title": ""
    }
   },
   "outputs": [],
   "source": [
    "CREATE TABLE IF NOT EXISTS jpm.bharat.sql_sales;\n",
    "-----Copy INTO----\n",
    "COPY INTO jpm.bharat.sql_sales\n",
    "FROM 'abfss://raw@adlsdatamaster.dfs.core.windows.net/stream_in'\n",
    "FILEFORMAT = csv\n",
    "FORMAT_OPTIONS ('header'='true')\n",
    "COPY_OPTIONS ('mergeSchema' = 'true');\n",
    "\n",
    "select * from jpm.bharat.sql_sales\n",
    "\n",
    "describe history jpm.bharat.sql_sales;\n",
    "\n",
    "----Merge Into-------\n",
    "\n",
    "create or replace table sql_bronze(id int, name string, country string);\n",
    "insert into sql_bronze values (1,'Naval', 'India'), (2,'Suhash', 'US');\n",
    "create or replace table sql_silver as select * from sql_bronze;\n",
    "select * from sql_bronze;\n",
    "select * from sql_silver;\n",
    "\n",
    "update sql_bronze set country= 'UK' where id= 2;\n",
    "insert into sql_bronze values (3,'Naveen','India');\n",
    "\n",
    "MERGE INTO sql_silver\n",
    "USING sql_bronze\n",
    "ON sql_silver.id = sql_bronze.id\n",
    "WHEN MATCHED THEN\n",
    "  UPDATE SET\n",
    "    sql_silver.name = sql_bronze.name,\n",
    "    sql_silver.country = sql_bronze.country\n",
    "WHEN NOT MATCHED\n",
    "  THEN INSERT (\n",
    "    id,\n",
    "    name,\n",
    "    country\n",
    "  )\n",
    "  VALUES (\n",
    "   sql_bronze.id,\n",
    "    sql_bronze.name,\n",
    "    sql_bronze.country\n",
    "  )\n",
    "\n",
    "select * from sql_silver;\n",
    "\n"
   ]
  }
 ],
 "metadata": {
  "application/vnd.databricks.v1+notebook": {
   "computePreferences": null,
   "dashboards": [],
   "environmentMetadata": null,
   "language": "sql",
   "notebookMetadata": {
    "pythonIndentUnit": 4,
    "sqlQueryOptions": {
     "applyAutoLimit": true,
     "catalog": "jpm",
     "schema": "bharat"
    }
   },
   "notebookName": "Bharat-Copy Into.dbquery.ipynb",
   "widgets": {}
  },
  "language_info": {
   "name": "sql"
  }
 },
 "nbformat": 4,
 "nbformat_minor": 0
}
