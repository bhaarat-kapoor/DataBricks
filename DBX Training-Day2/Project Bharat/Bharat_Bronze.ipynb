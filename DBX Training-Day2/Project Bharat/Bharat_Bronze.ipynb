{
 "cells": [
  {
   "cell_type": "markdown",
   "metadata": {
    "application/vnd.databricks.v1+cell": {
     "cellMetadata": {
      "byteLimit": 2048000,
      "rowLimit": 10000
     },
     "inputWidgets": {},
     "nuid": "42e2d35b-3c9a-45c9-9c9b-bd33473942aa",
     "showTitle": false,
     "tableResultSettingsMap": {},
     "title": ""
    }
   },
   "source": [
    "![](path)"
   ]
  },
  {
   "cell_type": "markdown",
   "metadata": {
    "application/vnd.databricks.v1+cell": {
     "cellMetadata": {
      "byteLimit": 2048000,
      "rowLimit": 10000
     },
     "inputWidgets": {},
     "nuid": "44edd410-d9f2-4290-b098-1824bba4838f",
     "showTitle": false,
     "tableResultSettingsMap": {},
     "title": ""
    }
   },
   "source": [
    "![](/Volumes/jpm/naval/csv/Screenshot 2025-02-25 at 5.15.48 PM.png)"
   ]
  },
  {
   "cell_type": "code",
   "execution_count": 0,
   "metadata": {
    "application/vnd.databricks.v1+cell": {
     "cellMetadata": {
      "byteLimit": 2048000,
      "implicitDf": true,
      "rowLimit": 10000
     },
     "inputWidgets": {},
     "nuid": "6048de80-cf39-450b-be7d-6e2d5b309d60",
     "showTitle": false,
     "tableResultSettingsMap": {},
     "title": ""
    }
   },
   "outputs": [],
   "source": [
    "%sql\n",
    "use catalog jpm;\n",
    "create schema if not exists bharat_bronze;\n",
    "create schema if not exists bharat_silver;\n",
    "create schema if not exists bharat_gold;"
   ]
  },
  {
   "cell_type": "code",
   "execution_count": 0,
   "metadata": {
    "application/vnd.databricks.v1+cell": {
     "cellMetadata": {
      "byteLimit": 2048000,
      "rowLimit": 10000
     },
     "inputWidgets": {},
     "nuid": "c8e7a185-d6a7-445c-b5df-471ee2163001",
     "showTitle": false,
     "tableResultSettingsMap": {},
     "title": ""
    }
   },
   "outputs": [],
   "source": [
    "df_bronze=spark.read.csv(\"/Volumes/jpm/subro/financial/Financial Sample.csv\", header=True,inferSchema=True).toDF(*[c.replace(' ', '_').lower() for c in spark.read.format('csv').option('header', 'true').load('/Volumes/jpm/subro/financial/Financial Sample.csv').columns])\n",
    "df_bronze.write.mode(\"overwrite\").saveAsTable(\"jpm.bharat_bronze.bharat_financial_data_bronze_3\")"
   ]
  },
  {
   "cell_type": "code",
   "execution_count": 0,
   "metadata": {
    "application/vnd.databricks.v1+cell": {
     "cellMetadata": {
      "byteLimit": 2048000,
      "implicitDf": true,
      "rowLimit": 10000
     },
     "inputWidgets": {},
     "nuid": "cd13b8b3-a02a-400b-aafc-cf3add6d8895",
     "showTitle": false,
     "tableResultSettingsMap": {},
     "title": ""
    }
   },
   "outputs": [],
   "source": [
    "df_bronze.createOrReplaceTempView(\"bharat_financial_data_bronze_temp\")\n",
    "#%sql Select * from bharat_financial_data_bronze_3\n"
   ]
  },
  {
   "cell_type": "code",
   "execution_count": 0,
   "metadata": {
    "application/vnd.databricks.v1+cell": {
     "cellMetadata": {
      "byteLimit": 2048000,
      "implicitDf": true,
      "rowLimit": 10000
     },
     "inputWidgets": {},
     "nuid": "3ba5f7d5-5517-49e1-b1d4-02823d5a77fb",
     "showTitle": false,
     "tableResultSettingsMap": {},
     "title": ""
    }
   },
   "outputs": [],
   "source": [
    "%sql\n",
    "CREATE or Replace table jpm.bharat_bronze.financial_bronze as \n",
    "(SELECT `segment` as Segment,\n",
    "       `country` as Country,\n",
    "       `product` as Product,\n",
    "       `discount_band` as Discount_Band,\n",
    "       `units_sold` as Units_Sold,\n",
    "       `manufacturing_price` as Manufacturing_Price,\n",
    "       `sale_price` as Sale_Price,\n",
    "       `gross_sales` as Gross_Sales,\n",
    "       `discounts` as Discounts,\n",
    "       `sales` as Sales,\n",
    "       `cogs` as COGS,\n",
    "       `profit` as Profit,\n",
    "       `date` as Date,\n",
    "       `month_number` as Month_Number,\n",
    "       `month_name` as Month_Name,\n",
    "       `year` as Year,\n",
    "       current_date() as Ingestion_Date\n",
    "FROM bharat_financial_data_bronze_temp)"
   ]
  },
  {
   "cell_type": "code",
   "execution_count": 0,
   "metadata": {
    "application/vnd.databricks.v1+cell": {
     "cellMetadata": {
      "byteLimit": 2048000,
      "implicitDf": true,
      "rowLimit": 10000
     },
     "inputWidgets": {},
     "nuid": "8ad75878-44a0-48f9-bbeb-ef2c1f0b2753",
     "showTitle": false,
     "tableResultSettingsMap": {
      "0": {
       "filterBlob": "{\"filterGroups\":[{\"enabled\":true,\"op\":\"OR\",\"filterGroupId\":\"fg_cb9a87ad\",\"filters\":[{\"filterId\":\"f_e1744f54\",\"columnId\":\"unit_sold\",\"enabled\":true,\"dataType\":\"string\",\"filterType\":\"contains\",\"filterValue\":\"$\",\"filterConfig\":{}}],\"local\":false,\"updatedAt\":1740488538597}],\"syncTimestamp\":1740491084863}",
       "tableResultIndex": 0
      }
     },
     "title": ""
    }
   },
   "outputs": [],
   "source": [
    "%sql\n",
    "select * from jpm.bharat_bronze.financial_bronze"
   ]
  },
  {
   "cell_type": "code",
   "execution_count": 0,
   "metadata": {
    "application/vnd.databricks.v1+cell": {
     "cellMetadata": {
      "byteLimit": 2048000,
      "implicitDf": true,
      "rowLimit": 10000
     },
     "inputWidgets": {},
     "nuid": "5797721c-68bf-4c20-81c8-9efbfe72e838",
     "showTitle": false,
     "tableResultSettingsMap": {
      "0": {
       "filterBlob": "{\"filterGroups\":[{\"enabled\":true,\"filterGroupId\":\"fg_4eebef1f\",\"op\":\"OR\",\"filters\":[{\"filterId\":\"f_e30850a3\",\"enabled\":true,\"columnId\":\"unit_sold\",\"dataType\":\"string\",\"filterType\":\"contains\",\"filterValue\":\"\"}],\"local\":false,\"updatedAt\":1740488628943}],\"syncTimestamp\":1740488628946}",
       "tableResultIndex": 0
      }
     },
     "title": ""
    }
   },
   "outputs": [],
   "source": [
    "%sql\n",
    "SELECT \n",
    "    Segment,\n",
    "    Country,\n",
    "    Product,\n",
    "    Discount_Band,\n",
    "    REPLACE(Units_Sold, '$', '') AS Units_Sold,\n",
    "    Manufacturing_Price,\n",
    "    Sale_Price,\n",
    "    Gross_Sales,\n",
    "    Discounts,\n",
    "    Sales,\n",
    "    COGS,\n",
    "    Profit,\n",
    "    Date,\n",
    "    Month_Name,\n",
    "    Month_Number,\n",
    "    Year,\n",
    "    ingestion_date\n",
    "FROM jpm.bharat_bronze.financial_bronze"
   ]
  },
  {
   "cell_type": "markdown",
   "metadata": {
    "application/vnd.databricks.v1+cell": {
     "cellMetadata": {
      "byteLimit": 2048000,
      "rowLimit": 10000
     },
     "inputWidgets": {},
     "nuid": "57f200dc-67f7-4780-9f50-b50f83aec253",
     "showTitle": false,
     "tableResultSettingsMap": {},
     "title": ""
    }
   },
   "source": [
    "from pyspark.sql.functions import regexp_replace, col\n",
    "\n",
    "# Remove spaces from all string columns\n",
    "df_cleaned = df1.select([regexp_replace(col(c), r'\\s+', '').alias(c) if c != 'units_sold' else col(c) for c in df1.columns])\n",
    "\n",
    "# Remove $ symbol from 'units_sold' column\n",
    "df_cleaned = df_cleaned.withColumn('units_sold', regexp_replace(col('units_sold'), r'\\$', ''))\n",
    "\n",
    "display(df_cleaned)"
   ]
  }
 ],
 "metadata": {
  "application/vnd.databricks.v1+notebook": {
   "computePreferences": null,
   "dashboards": [],
   "environmentMetadata": {
    "base_environment": "",
    "environment_version": "2"
   },
   "language": "python",
   "notebookMetadata": {
    "mostRecentlyExecutedCommandWithImplicitDF": {
     "commandId": 6602208895596463,
     "dataframes": [
      "_sqldf"
     ]
    },
    "pythonIndentUnit": 4
   },
   "notebookName": "Bharat_Bronze",
   "widgets": {}
  },
  "language_info": {
   "name": "python"
  }
 },
 "nbformat": 4,
 "nbformat_minor": 0
}
